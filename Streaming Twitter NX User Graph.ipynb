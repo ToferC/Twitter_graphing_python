{
 "cells": [
  {
   "cell_type": "markdown",
   "metadata": {},
   "source": [
    "# Convert Streamed Twitter API JSON file to NetworkX & Gephi"
   ]
  },
  {
   "cell_type": "markdown",
   "metadata": {},
   "source": [
    "Developed by Chris Allison - @ToferC"
   ]
  },
  {
   "cell_type": "markdown",
   "metadata": {},
   "source": [
    "This notebook takes a custom JSON dict of tweets pulled from the Twitter API, extracts the key data desired and creates first a NetworkX Graph and then exports to a Gephi file.\n",
    "\n",
    "Tweets are collected by twitter_to_json.py and placed in the results directory with the title \"search_\"query_name\".json\n"
   ]
  },
  {
   "cell_type": "code",
   "execution_count": 1,
   "metadata": {
    "collapsed": false
   },
   "outputs": [],
   "source": [
    "import networkx as nx\n",
    "import pandas as pd\n",
    "import matplotlib.pyplot as plt\n",
    "import tweepy\n",
    "import os\n",
    "import datetime, time\n",
    "import nltk\n",
    "from nltk import word_tokenize\n",
    "from nltk.corpus import stopwords\n",
    "import re\n",
    "import json\n",
    "\n",
    "%matplotlib inline"
   ]
  },
  {
   "cell_type": "code",
   "execution_count": 2,
   "metadata": {
    "collapsed": true
   },
   "outputs": [],
   "source": [
    "# Set up source and data directories - configure these as required\n",
    "\n",
    "home_dir = \"/Users/christopherallison/.virtualenvs/py_twi/streaming_results\"\n",
    "save_dir = \"/Users/christopherallison/Documents/Coding/Gephi/twitter_stream\""
   ]
  },
  {
   "cell_type": "code",
   "execution_count": 9,
   "metadata": {
    "collapsed": true
   },
   "outputs": [],
   "source": [
    "# Enter your search queries here separated by spaces - \n",
    "# You must have already run search_twitter_to_json.py for the query\n",
    "\n",
    "search_queries = \"demdebate\".split()"
   ]
  },
  {
   "cell_type": "markdown",
   "metadata": {},
   "source": [
    "### Processing functions"
   ]
  },
  {
   "cell_type": "code",
   "execution_count": null,
   "metadata": {
    "collapsed": false
   },
   "outputs": [],
   "source": []
  },
  {
   "cell_type": "markdown",
   "metadata": {},
   "source": [
    "The following functions are used by the main script to prep data"
   ]
  },
  {
   "cell_type": "code",
   "execution_count": 4,
   "metadata": {
    "collapsed": false
   },
   "outputs": [],
   "source": [
    "def find_user(tweet_id, tweet_dict):\n",
    "    # Find tweet author based on tweet status ID\n",
    "    try:\n",
    "        x = tweet_dict[tweet_id]['user_screen_name']\n",
    "    except KeyError:\n",
    "        x = None # User is out of scope\n",
    "    return x"
   ]
  },
  {
   "cell_type": "code",
   "execution_count": 5,
   "metadata": {
    "collapsed": true
   },
   "outputs": [],
   "source": [
    "first_cap_re = re.compile('(.)([A-Z][a-z]+)')\n",
    "all_cap_re = re.compile('([a-z0-9])([A-Z])')\n",
    "\n",
    "def convert(name):\n",
    "    # Convert text to camel_case\n",
    "    s1 = first_cap_re.sub(r'\\1_\\2', name)\n",
    "    return all_cap_re.sub(r'\\1_\\2', s1).lower()"
   ]
  },
  {
   "cell_type": "markdown",
   "metadata": {},
   "source": [
    "# Full function for network graphing"
   ]
  },
  {
   "cell_type": "code",
   "execution_count": 11,
   "metadata": {
    "collapsed": false
   },
   "outputs": [],
   "source": [
    "def twitter_data_to_graph(search_query):\n",
    "    # Convert JSON file of tweets to NetworkX Graph and Gephi graph file\n",
    "    \n",
    "    # Set up empty strings for NTLK analysis\n",
    "    full_tweets = \"\"\n",
    "    full_hashtags = \"\"\n",
    "    \n",
    "    # Create dict for storing user data\n",
    "    users = {}\n",
    "    \n",
    "    for sq in search_query:\n",
    "        \n",
    "        tweets = {}\n",
    "        \n",
    "        # Open source files for each query\n",
    "        \n",
    "        with open(os.path.join(home_dir, '{}_stream.json'.format(sq)), 'r') as f:\n",
    "        \n",
    "            for data in f:\n",
    "        \n",
    "                result = json.loads(data)\n",
    "\n",
    "                try:\n",
    "                    id_str = result['id_str']\n",
    "\n",
    "                    tweets[id_str] = {\n",
    "                        'id_str': id_str,\n",
    "                        'date': str(result['created_at']),\n",
    "                        'text': result['text'],\n",
    "                        'retweet_count': result['retweet_count'],\n",
    "                        'favorite_count': result['favorite_count'],\n",
    "                        'reply_to': result['in_reply_to_screen_name'],\n",
    "                        'coordinates': result['coordinates'],\n",
    "                        'reply_to_tweet': result['in_reply_to_status_id'],\n",
    "                        'user_screen_name': result['user']['screen_name'],\n",
    "                        'quoted_status': result['is_quote_status'],\n",
    "                        'lang': result['lang'],\n",
    "                        'entities': result['entities'],\n",
    "                        'urls': result['entities']['urls'],\n",
    "                        'hashtags': result['entities']['hashtags'],\n",
    "                        'user_mentions': result['entities']['user_mentions'],\n",
    "                        'user': result['user']\n",
    "                        }\n",
    "\n",
    "                    try:\n",
    "                        tweets[id_str]['quoted_status_id_str'] = result['quoted_status_id_str']\n",
    "                    except KeyError:\n",
    "                        tweets[id_str]['quoted_status_id_str'] = None\n",
    "                        \n",
    "                except KeyError:\n",
    "                    continue\n",
    "        \n",
    "        for t in tweets:\n",
    "    \n",
    "            # Convert hashtags to string\n",
    "            n = []\n",
    "            if tweets[t]['hashtags']:\n",
    "                for i in tweets[t]['hashtags']:\n",
    "                    n.append(i['text'].lower())\n",
    "                tweets[t]['hashtags'] = \" \".join(n)\n",
    "            else:\n",
    "                tweets[t]['hashtags'] = \"\"\n",
    "\n",
    "            # Convert user-mentions to string\n",
    "            n = []\n",
    "            if tweets[t]['user_mentions']:\n",
    "                for i in tweets[t]['user_mentions']:\n",
    "                    n.append(i['screen_name'].lower())\n",
    "                tweets[t]['user_mentions'] = \" \".join(n)\n",
    "            else:\n",
    "                tweets[t]['user_mentions'] = \"\"\n",
    "                \n",
    "            # Set user name to save a lot of typing\n",
    "            name = str(tweets[t]['user_screen_name']).lower()\n",
    "            \n",
    "            # User already exists\n",
    "            try:\n",
    "                # Add hashtags used by the user\n",
    "                users[name]['hashtags'] += \" {}\".format(\n",
    "                tweets[t]['hashtags'])\n",
    "\n",
    "                # Add user-mentions used by the user\n",
    "                users[name]['user_mentions'] += \" {}\".format(\n",
    "                tweets[t]['user_mentions'])\n",
    "\n",
    "                # Add tweet id_strings used by the user\n",
    "                users[name]['id_str'] += \" {}\".format(\n",
    "                tweets[t]['id_str'])\n",
    "\n",
    "                # We are not adding additional info to date as it will disrupt dynamic graphs\n",
    "                pass\n",
    "\n",
    "                # Add texts from additional tweets and date info as text\n",
    "                users[name]['text'] += \"\\n\\n{}\\n{}\".format(\n",
    "                tweets[t]['text'], tweets[t]['date'])\n",
    "\n",
    "                # Count user tweets\n",
    "                users[name]['user_tweets'] += 1\n",
    "\n",
    "                # Add cumulative retweets for all tweets\n",
    "                users[name]['retweet_count'] += int(tweets[t]['retweet_count'])\n",
    "\n",
    "                users[name]['replies'] += \" {}\".format(tweets[t]['reply_to_tweet'])\n",
    "                users[name]['quoted_id_str'] += \" {}\".format(tweets[t]['quoted_status_id_str'])\n",
    "\n",
    "                users[name]['user_replies'] += \" {}\".format(tweets[t]['reply_to'])\n",
    "\n",
    "            except KeyError:\n",
    "\n",
    "                # Key doesn't exist, so add user\n",
    "                users[name] = {}\n",
    "\n",
    "                users[name]['screen_name'] = name\n",
    "                users[name]['id_str'] = tweets[t]['id_str']\n",
    "                users[name]['date'] = tweets[t]['date']\n",
    "                users[name]['text'] = tweets[t]['text']\n",
    "                users[name]['hashtags'] = tweets[t]['hashtags']\n",
    "                users[name]['retweet_count'] = tweets[t]['retweet_count']\n",
    "                users[name]['replies'] = str(tweets[t]['reply_to_tweet'])\n",
    "                users[name]['quoted_id_str'] = str(tweets[t]['quoted_status_id_str'])\n",
    "                users[name]['user_replies'] = str(tweets[t]['reply_to'])\n",
    "                users[name]['user_mentions'] = str(tweets[t]['user_mentions'])\n",
    "                users[name]['user_tweets'] = 1\n",
    "                \n",
    "            full_tweets += \"{} \".format(tweets[t]['text'])\n",
    "            full_hashtags += \"{} \".format(tweets[t]['hashtags'])\n",
    "                \n",
    "        # Remove duplicate hashtags\n",
    "        \n",
    "        for u in users:\n",
    "            users[u]['hashtags'] = \" \".join(set(users[u]['hashtags'].split(' ')))\n",
    "        \n",
    "        # Create one node for each tweet with embedded data - Graph N\n",
    "        for u in users:\n",
    "            N.add_node(str(users[u]['screen_name']), attr_dict=users[u])\n",
    "            \n",
    "        # Create edge_list\n",
    "\n",
    "        edge_dict = {}\n",
    "\n",
    "        for u in users:\n",
    "            temp = []\n",
    "\n",
    "            # Prep user-mentions\n",
    "            try:\n",
    "                um = users[u]['user_mentions'].split(\" \")\n",
    "            except AttributeError:\n",
    "                um = []\n",
    "\n",
    "            # Prep replies to users\n",
    "            try:\n",
    "                ur = users[u]['user_replies'].split(\" \")\n",
    "            except AttributeError:\n",
    "                ur = []\n",
    "\n",
    "\n",
    "            # Prep replies to tweets\n",
    "            try:\n",
    "                rtt = users[u]['replies'].split(\" \")\n",
    "            except AttributeError:\n",
    "                rtt = []\n",
    "\n",
    "            if rtt:\n",
    "                rtt = [find_user(u, tweets) for u in rtt]\n",
    "                \n",
    "            # Prep quoted_status_id_str\n",
    "            try:\n",
    "                qis = users[u]['quoted_id_str'].split(\" \")\n",
    "            except AttributeError:\n",
    "                qis = []\n",
    "\n",
    "            if qis:\n",
    "                qis = [find_user(u, tweets) for u in qis]\n",
    "\n",
    "\n",
    "            # Create edge list keys and weight\n",
    "            temp = um + ur + rtt + qis\n",
    "\n",
    "            # Remove any empty elements in list\n",
    "            for e in temp:\n",
    "                \n",
    "                # Remove any empty elements in list\n",
    "                if str(e) == \"\" or str(e) == 'None':\n",
    "                    pass\n",
    "                # Add edges to dict\n",
    "                else:\n",
    "                    try:\n",
    "                        edge_dict[str([users[u]['screen_name'], str(e)]).lower()]['weight'] += 1\n",
    "\n",
    "                    except KeyError:\n",
    "                        edge_dict[str([users[u]['screen_name'], str(e)]).lower()] = {}\n",
    "                        edge_dict[str([users[u]['screen_name'], str(e)]).lower()]['node'] = users[u]['screen_name']\n",
    "                        edge_dict[str([users[u]['screen_name'], str(e)]).lower()]['target'] = str(e)\n",
    "                        edge_dict[str([users[u]['screen_name'], str(e)]).lower()]['weight'] = 1\n",
    "                        \n",
    "        # Add edges for @mentions and replies to users\n",
    "        for e in edge_dict:\n",
    "            N.add_edge(edge_dict[e]['node'],\n",
    "                       edge_dict[e]['target'],\n",
    "                       weight=edge_dict[e]['weight'])\n",
    "\n",
    "        # Insert any data analysis here\n",
    "        print(\"Converting and analyzing search query: {}\".format(sq))\n",
    "        print(\"Nodes: {}, Edges: {}\".format(len(N.nodes()), len(N.edges())))\n",
    "        \n",
    "        # NLTK analysis\n",
    "        \n",
    "        tweet_tokens = word_tokenize(full_tweets)\n",
    "        hashtag_tokens = word_tokenize(full_hashtags)\n",
    "        \n",
    "        text = nltk.Text(tweet_tokens)\n",
    "        clean_tweets = [w for w in set(text) if w.lower() not in stopwords.words('english')]\n",
    "        \n",
    "        hts = nltk.Text(hashtag_tokens)\n",
    "        \n",
    "        print('\\nFrequency Distribution for hashtags:')\n",
    "        fdist1 = nltk.FreqDist(hts)\n",
    "        V = fdist1.most_common(n=50)\n",
    "        print([y for y in V])\n",
    "        fdist1.plot(30, cumulative=False)\n",
    "        \n",
    "    # Write G graph in gexf for Gephi\n",
    "    file_name = \"{}_graph_{}.gexf\".format(\n",
    "        convert(\"_\".join(search_queries)),\n",
    "        datetime.datetime.now())\n",
    "    \n",
    "    nx.write_gexf(N, os.path.join(save_dir, file_name))\n",
    "    print(\"New file {} saved to {}.\".format(file_name, save_dir))\n",
    "        "
   ]
  },
  {
   "cell_type": "code",
   "execution_count": 7,
   "metadata": {
    "collapsed": true
   },
   "outputs": [],
   "source": [
    "N = nx.MultiDiGraph()"
   ]
  },
  {
   "cell_type": "code",
   "execution_count": 12,
   "metadata": {
    "collapsed": false
   },
   "outputs": [
    {
     "name": "stdout",
     "output_type": "stream",
     "text": [
      "Converting and analyzing search query: demdebate\n",
      "Nodes: 16294, Edges: 14763\n",
      "\n",
      "Frequency Distribution for hashtags:\n",
      "[('demdebate', 14584), ('cnndebate', 583), ('balondividido', 542), ('mesadeanálisiswin', 542), ('manuelsarmientodefiende', 542), ('debatewithbernie', 361), ('feelthebern', 334), ('imwithher', 297), ('blacklivesmatter', 126), ('tcot', 125), ('berniesanders', 115), ('gopdebate', 113), ('democraticdebate', 104), ('tytlive', 101), ('marijuana', 85), ('hillary2016', 77), ('hillaryclinton', 73), ('bernie2016', 73), ('cnn', 68), ('pjnet', 60), ('bethiphopawards', 58), ('trump2016', 58), ('makeamericagreatagain', 47), ('afazendaabre', 47), ('harmonizersaretired', 47), ('partychilensisftlaroja', 46), ('standwithpp', 46), ('usa4djt', 44), ('plannedparenthood', 44), ('climatechange', 43), ('imwithhuck', 42), ('gop', 41), ('hillary', 40), ('legalizeitforeveryone', 40), ('inourcorner', 39), ('tgdn', 38), ('paidleave', 38), ('bernie', 38), ('paidfamilyleave', 33), ('ash4president', 32), ('rednationrising', 32), ('jimwebb', 31), ('warondrugs', 29), ('warrenwing', 28), ('legalizemarijuana', 26), ('legalizeit', 26), ('debatedebatela', 26), ('wearedemocrats', 25), ('education', 25), ('benghazi', 24)]\n"
     ]
    },
    {
     "data": {
      "image/png": "[encoded data removed]",
      "text/plain": [
       "<matplotlib.figure.Figure at 0x11bbdab70>"
      ]
     },
     "metadata": {},
     "output_type": "display_data"
    },
    {
     "name": "stdout",
     "output_type": "stream",
     "text": [
      "New file demdebate_graph_2015-10-13 23:05:46.281178.gexf saved to /Users/christopherallison/Documents/Coding/Gephi/twitter_stream.\n"
     ]
    }
   ],
   "source": [
    "twitter_data_to_graph(search_queries)"
   ]
  },
  {
   "cell_type": "markdown",
   "metadata": {
    "collapsed": false
   },
   "source": [
    "## You're done!  Now go check out your graph file in Gephi!"
   ]
  },
  {
   "cell_type": "code",
   "execution_count": null,
   "metadata": {
    "collapsed": true
   },
   "outputs": [],
   "source": []
  }
 ],
 "metadata": {
  "kernelspec": {
   "display_name": "Python 3",
   "language": "python",
   "name": "python3"
  },
  "language_info": {
   "codemirror_mode": {
    "name": "ipython",
    "version": 3
   },
   "file_extension": ".py",
   "mimetype": "text/x-python",
   "name": "python",
   "nbconvert_exporter": "python",
   "pygments_lexer": "ipython3",
   "version": "3.4.3"
  }
 },
 "nbformat": 4,
 "nbformat_minor": 0
}
